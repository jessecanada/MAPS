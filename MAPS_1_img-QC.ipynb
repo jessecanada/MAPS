{
 "cells": [
  {
   "cell_type": "code",
   "execution_count": 1,
   "metadata": {
    "collapsed": true
   },
   "outputs": [],
   "source": [
    "import os\n",
    "import cv2\n",
    "from matplotlib import pyplot as plt\n",
    "import numpy as np\n",
    "import MAPS_util"
   ]
  },
  {
   "cell_type": "markdown",
   "metadata": {},
   "source": [
    "## set the working directory"
   ]
  },
  {
   "cell_type": "code",
   "execution_count": null,
   "metadata": {},
   "outputs": [],
   "source": [
    "# check current directory\n",
    "os.getcwd()"
   ]
  },
  {
   "cell_type": "code",
   "execution_count": null,
   "metadata": {},
   "outputs": [],
   "source": [
    "# change directory\n",
    "os.chdir('your-directory')\n",
    "# confirm the directory\n",
    "os.getcwd()"
   ]
  },
  {
   "cell_type": "markdown",
   "metadata": {},
   "source": [
    "## get to work"
   ]
  },
  {
   "cell_type": "code",
   "execution_count": null,
   "metadata": {},
   "outputs": [],
   "source": [
    "folder_path = \"your-image-folder\"\n",
    "create_folder(folder_path, \"not-blurry\")"
   ]
  },
  {
   "cell_type": "code",
   "execution_count": 54,
   "metadata": {
    "collapsed": true
   },
   "outputs": [],
   "source": [
    "dst_folder = folder_path + \"not-blurry\""
   ]
  },
  {
   "cell_type": "code",
   "execution_count": null,
   "metadata": {
    "scrolled": true
   },
   "outputs": [],
   "source": [
    "# get the file names of the images in the folder\n",
    "ID_list = get_names(folder_path)\n",
    "\n",
    "for x in ID_list:\n",
    "    print('ID = {}'.format(x))\n",
    "    for entry in os.scandir(folder_path): # import each channel\n",
    "        if x in entry.name and entry.name.endswith('d0.TIF'):\n",
    "            blue = cv2.imread(entry.path, 0)\n",
    "            print(entry.name)\n",
    "        if x in entry.name and entry.name.endswith('d1.TIF'):\n",
    "            green = cv2.imread(entry.path, 0)\n",
    "            print(entry.name)\n",
    "        if x in entry.name and entry.name.endswith('d2.TIF'):\n",
    "            red = cv2.imread(entry.path, 0)\n",
    "            print(entry.name)\n",
    "        else:\n",
    "            continue\n",
    "        \n",
    "        # use DAPI to do 1st round of filtering out blurry images\n",
    "        edgesBlue = cv2.Canny(blue, 100, 200)\n",
    "        fmBlue = variance_of_laplacian(edgesBlue)\n",
    "        \n",
    "        if fmBlue > 800: # fine-tune this number if the default doesn't work\n",
    "            print('fm = {:2f}'.format(fmBlue))\n",
    "            # blur out over-exposed cells\n",
    "            mask = find_blobs(red)\n",
    "            blrred = blur_blobs(red, mask)\n",
    "                \n",
    "            # remove air bubbles\n",
    "            kernel = cv2.getStructuringElement(cv2.MORPH_RECT,(5,5))  # taking a matrix of size 5 as kernel\n",
    "            morph = cv2.morphologyEx(blrred, cv2.MORPH_OPEN, kernel) # (erosion followed by dilation)\n",
    "            \n",
    "            # 2nd rnd of edge detect, after processing tricky images\n",
    "            edgesRed = cv2.Canny(morph, 50, 200)\n",
    "            fmRed = variance_of_laplacian(edgesRed)\n",
    "            \n",
    "            if fmRed > 230:\n",
    "                # illumination correction on all channels\n",
    "                #blue = illum_corr(blue)\n",
    "                green = hist_adj(green, clahe=False, offset=0)\n",
    "                red = hist_adj(red, clahe=False, offset=0)\n",
    "                \n",
    "                mergedImg = cv2.merge([blue, green, red])\n",
    "                fName = 'merged_' + str(x) + '.TIF'\n",
    "                print('Saving file - {}...'.format(fName))\n",
    "                cv2.imwrite(dst_folder + fName, mergedImg)"
   ]
  }
 ],
 "metadata": {
  "kernelspec": {
   "display_name": "Python 3",
   "language": "python",
   "name": "python3"
  },
  "language_info": {
   "codemirror_mode": {
    "name": "ipython",
    "version": 3
   },
   "file_extension": ".py",
   "mimetype": "text/x-python",
   "name": "python",
   "nbconvert_exporter": "python",
   "pygments_lexer": "ipython3",
   "version": "3.8.5"
  }
 },
 "nbformat": 4,
 "nbformat_minor": 2
}
