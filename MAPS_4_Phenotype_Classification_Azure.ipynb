{
  "nbformat": 4,
  "nbformat_minor": 0,
  "metadata": {
    "colab": {
      "name": "MAPS_4_Phenotype_Classification_Azure.ipynb",
      "provenance": [],
      "collapsed_sections": [],
      "toc_visible": true,
      "authorship_tag": "ABX9TyPOkUJRYV/98LXfrpjFRB8N",
      "include_colab_link": true
    },
    "kernelspec": {
      "name": "python3",
      "display_name": "Python 3"
    }
  },
  "cells": [
    {
      "cell_type": "markdown",
      "metadata": {
        "id": "view-in-github",
        "colab_type": "text"
      },
      "source": [
        "<a href=\"https://colab.research.google.com/github/jessecanada/MAPS/blob/master/MAPS_4_Phenotype_Classification_Azure.ipynb\" target=\"_parent\"><img src=\"https://colab.research.google.com/assets/colab-badge.svg\" alt=\"Open In Colab\"/></a>"
      ]
    },
    {
      "cell_type": "markdown",
      "metadata": {
        "id": "Mpa_wHfduOxR"
      },
      "source": [
        "## **MAPS Module 4 - Phenotype Classification**\n",
        "This notebook will guide you through classifying phenotypes with Azure Custom Vision.\n"
      ]
    },
    {
      "cell_type": "markdown",
      "metadata": {
        "id": "avTe37InDq4U"
      },
      "source": [
        "## Set up Azure environtment"
      ]
    },
    {
      "cell_type": "code",
      "metadata": {
        "id": "y9IGQO3YBeds",
        "colab": {
          "base_uri": "https://localhost:8080/"
        },
        "outputId": "43bc825b-2479-45e5-d7f0-3a4c931a2ccf"
      },
      "source": [
        "!pip -q install azure-cognitiveservices-vision-customvision"
      ],
      "execution_count": null,
      "outputs": [
        {
          "output_type": "stream",
          "text": [
            "\u001b[?25l\r\u001b[K     |█████▎                          | 10kB 13.7MB/s eta 0:00:01\r\u001b[K     |██████████▋                     | 20kB 16.5MB/s eta 0:00:01\r\u001b[K     |███████████████▉                | 30kB 15.8MB/s eta 0:00:01\r\u001b[K     |█████████████████████▏          | 40kB 9.5MB/s eta 0:00:01\r\u001b[K     |██████████████████████████▍     | 51kB 4.4MB/s eta 0:00:01\r\u001b[K     |███████████████████████████████▊| 61kB 5.1MB/s eta 0:00:01\r\u001b[K     |████████████████████████████████| 71kB 3.6MB/s \n",
            "\u001b[K     |████████████████████████████████| 92kB 4.5MB/s \n",
            "\u001b[K     |████████████████████████████████| 51kB 7.1MB/s \n",
            "\u001b[?25h"
          ],
          "name": "stdout"
        }
      ]
    },
    {
      "cell_type": "code",
      "metadata": {
        "id": "tyVfEdu9CJSD"
      },
      "source": [
        "# data and file processing libraries\n",
        "import numpy as np\n",
        "import pandas as pd\n",
        "import cv2\n",
        "import matplotlib.pyplot as plt\n",
        "import os\n",
        "%matplotlib inline\n",
        "\n",
        "# Azure related libraries\n",
        "from azure.cognitiveservices.vision.customvision.training import CustomVisionTrainingClient\n",
        "from azure.cognitiveservices.vision.customvision.prediction import CustomVisionPredictionClient\n",
        "from msrest.authentication import ApiKeyCredentials\n",
        "from azure.cognitiveservices.vision.customvision.training.models import ImageFileCreateBatch, ImageFileCreateEntry, Region"
      ],
      "execution_count": null,
      "outputs": []
    },
    {
      "cell_type": "markdown",
      "metadata": {
        "id": "wKzMv_IYxT_l"
      },
      "source": [
        "Setup your Azure trainer and predictor. Follow [this guide](https://docs.microsoft.com/en-us/azure/cognitive-services/custom-vision-service/quickstarts/object-detection?tabs=visual-studio&pivots=programming-language-python) to locate the attributes"
      ]
    },
    {
      "cell_type": "code",
      "metadata": {
        "id": "u-42InKwBkvw"
      },
      "source": [
        "ENDPOINT = \"your-endpoint\" # ex: https://westus2.api.cognitive.microsoft.com/\n",
        "training_key = \"your-training-key\"\n",
        "prediction_key = \"your-prediction-key\""
      ],
      "execution_count": null,
      "outputs": []
    },
    {
      "cell_type": "code",
      "metadata": {
        "id": "BORKsElJyfK8"
      },
      "source": [
        "credentials = ApiKeyCredentials(in_headers={\"Training-key\": training_key})\n",
        "trainer = CustomVisionTrainingClient(ENDPOINT, credentials)\n",
        "prediction_credentials = ApiKeyCredentials(in_headers={\"Prediction-key\": prediction_key})\n",
        "predictor = CustomVisionPredictionClient(ENDPOINT, prediction_credentials)"
      ],
      "execution_count": null,
      "outputs": []
    },
    {
      "cell_type": "code",
      "metadata": {
        "colab": {
          "base_uri": "https://localhost:8080/"
        },
        "id": "Ya2QaW1_ynLH",
        "outputId": "00168d0f-2f80-4313-884e-739685f4dcb5"
      },
      "source": [
        "# list your projects\n",
        "for project in trainer.get_projects():\n",
        "  print(project.name, project.id)"
      ],
      "execution_count": null,
      "outputs": [
        {
          "output_type": "stream",
          "text": [
            "PTEN_classification 1eae5342-91d5-4f2c-9848-9652c1e13b36\n",
            "PTEN_obj_detect 852eead8-f80d-4645-9c3d-5ba1fa221df2\n"
          ],
          "name": "stdout"
        }
      ]
    },
    {
      "cell_type": "code",
      "metadata": {
        "colab": {
          "base_uri": "https://localhost:8080/",
          "height": 35
        },
        "id": "-gSyffpQyqpH",
        "outputId": "e703064d-319e-4628-9582-220f2de02586"
      },
      "source": [
        "# copy the 'id' value of your object detection project and paste it below\n",
        "project = trainer.get_project(project_id=\"1eae5342-91d5-4f2c-9848-9652c1e13b36\")\n",
        "# if project is loaded successfully you should see it returned\n",
        "project.id"
      ],
      "execution_count": null,
      "outputs": [
        {
          "output_type": "execute_result",
          "data": {
            "application/vnd.google.colaboratory.intrinsic+json": {
              "type": "string"
            },
            "text/plain": [
              "'1eae5342-91d5-4f2c-9848-9652c1e13b36'"
            ]
          },
          "metadata": {
            "tags": []
          },
          "execution_count": 6
        }
      ]
    },
    {
      "cell_type": "code",
      "metadata": {
        "colab": {
          "base_uri": "https://localhost:8080/"
        },
        "id": "lvC70K200ITh",
        "outputId": "525c3ec6-81aa-477b-83b8-c1114228ac30"
      },
      "source": [
        "# list published iterations of your obj detection model\n",
        "# iterations not published will print as \"None\"\n",
        "for iter in trainer.get_iterations(project.id):\n",
        "  if iter.publish_name == None:\n",
        "    print(f'{iter.name}: not published')\n",
        "  else:\n",
        "    print(f'{iter.name} is published as \"{iter.publish_name}\"')"
      ],
      "execution_count": null,
      "outputs": [
        {
          "output_type": "stream",
          "text": [
            "Iteration 7 is published as \"Iteration7\"\n",
            "Iteration 4: not published\n",
            "Iteration 2 is published as \"Iteration2\"\n"
          ],
          "name": "stdout"
        }
      ]
    },
    {
      "cell_type": "code",
      "metadata": {
        "id": "GZw0qNxK0NdZ"
      },
      "source": [
        "# specify the iteration you want to use (without spaces)\n",
        "publish_iteration_name = \"Iteration7\""
      ],
      "execution_count": null,
      "outputs": []
    },
    {
      "cell_type": "markdown",
      "metadata": {
        "id": "Yw5Gr9GaDZfX"
      },
      "source": [
        "## Get the ROI files ready for classification"
      ]
    },
    {
      "cell_type": "code",
      "metadata": {
        "id": "x-cSX6mLGiNd",
        "colab": {
          "base_uri": "https://localhost:8080/"
        },
        "outputId": "5b11ee66-c9a9-4ae7-f914-c4c17d38638e"
      },
      "source": [
        "from google.colab import drive\n",
        "drive.mount('/content/drive')"
      ],
      "execution_count": null,
      "outputs": [
        {
          "output_type": "stream",
          "text": [
            "Mounted at /content/drive\n"
          ],
          "name": "stdout"
        }
      ]
    },
    {
      "cell_type": "code",
      "metadata": {
        "id": "offBhV3I1m_Z"
      },
      "source": [
        "# unzip zip file containing individual ROI images\n",
        "!unzip -q -d /content/ path-to-ROI-zip"
      ],
      "execution_count": null,
      "outputs": []
    },
    {
      "cell_type": "code",
      "metadata": {
        "id": "e66aMAdLm-as",
        "colab": {
          "base_uri": "https://localhost:8080/"
        },
        "outputId": "b294abad-9dda-4770-d061-45e7a01fa6cd"
      },
      "source": [
        "# confirm how many cells are to be analyzed\n",
        "!ls path-to-folder | wc -l"
      ],
      "execution_count": null,
      "outputs": [
        {
          "output_type": "stream",
          "text": [
            "337\n"
          ],
          "name": "stdout"
        }
      ]
    },
    {
      "cell_type": "markdown",
      "metadata": {
        "id": "sU6PspYpaQoY"
      },
      "source": [
        "## Azure classification predictions"
      ]
    },
    {
      "cell_type": "code",
      "metadata": {
        "id": "29g-YwmMOPyP",
        "colab": {
          "base_uri": "https://localhost:8080/"
        },
        "outputId": "7b770ee5-8733-404a-d89c-febcea594873"
      },
      "source": [
        "wrk_dir = \"your-ROI-directory\" # replace with your ROI folder path\n",
        "temp_list = []\n",
        "\n",
        "for entry in os.scandir(wrk_dir):\n",
        "  if entry.name.endswith('.jpg'):\n",
        "    image_ID = entry.name[:-4]\n",
        "    print(f'image_ID: {image_ID}')\n",
        "\n",
        "    # open an image and get back the prediction results\n",
        "    with open(wrk_dir+entry.name, mode=\"rb\") as image: # rb: 'read binary' (for images)\n",
        "      results = predictor.classify_image(project.id, publish_iteration_name, image)\n",
        "    \n",
        "      # get prediction results\n",
        "      tags = [prediction.tag_name for prediction in results.predictions]\n",
        "      probabilities = [prediction.probability*100 for prediction in results.predictions]\n",
        "      # make a dictionary of tag:prob pairs\n",
        "      predictions_dict = dict(zip(tags, probabilities))\n",
        "      # sort the tags in alphabetical order, append the corresponding prob of the sorted tags\n",
        "      predictions_list = [predictions_dict[i] for i in sorted(predictions_dict)]\n",
        "      # add image_ID to the beginning of the list\n",
        "      predictions_list.insert(0, image_ID)\n",
        "      # append the sorted list to a list as a compound list\n",
        "      temp_list.append(predictions_list)\n",
        "    \n",
        "      for i in sorted(predictions_dict) : \n",
        "        print(f'{i}: {predictions_dict[i]:.2f}%') \n",
        "      print()"
      ],
      "execution_count": null,
      "outputs": [
        {
          "output_type": "stream",
          "text": [
            "image_ID: merged_191120100001_B02f89_4\n",
            "diffused: 15.58%\n",
            "junk: 0.18%\n",
            "non_nuclear: 12.41%\n",
            "nuclear: 71.84%\n",
            "\n",
            "image_ID: merged_191120100001_B02f115_4\n",
            "diffused: 0.90%\n",
            "junk: 43.93%\n",
            "non_nuclear: 3.49%\n",
            "nuclear: 51.69%\n",
            "\n",
            "image_ID: merged_191120100001_B02f215_1\n",
            "diffused: 99.17%\n",
            "junk: 0.00%\n",
            "non_nuclear: 0.34%\n",
            "nuclear: 0.49%\n",
            "\n",
            "image_ID: merged_191120100001_B02f56_0\n",
            "diffused: 8.06%\n",
            "junk: 0.58%\n",
            "non_nuclear: 4.66%\n",
            "nuclear: 86.70%\n",
            "\n",
            "image_ID: merged_191120100001_B02f142_0\n",
            "diffused: 3.00%\n",
            "junk: 0.25%\n",
            "non_nuclear: 96.74%\n",
            "nuclear: 0.00%\n",
            "\n",
            "image_ID: merged_191120100001_B02f49_0\n",
            "diffused: 99.94%\n",
            "junk: 0.00%\n",
            "non_nuclear: 0.01%\n",
            "nuclear: 0.05%\n",
            "\n",
            "image_ID: merged_191120100001_B02f163_3\n",
            "diffused: 0.01%\n",
            "junk: 99.80%\n",
            "non_nuclear: 0.03%\n",
            "nuclear: 0.16%\n",
            "\n",
            "image_ID: merged_191120100001_B02f54_3\n",
            "diffused: 0.11%\n",
            "junk: 0.41%\n",
            "non_nuclear: 99.03%\n",
            "nuclear: 0.45%\n",
            "\n",
          ],
          "name": "stdout"
        }
      ]
    },
    {
      "cell_type": "markdown",
      "metadata": {
        "id": "o3f7E6B-0nH5"
      },
      "source": [
        "convert prediction results into a dataframe"
      ]
    },
    {
      "cell_type": "code",
      "metadata": {
        "id": "sk0FuvMjuSBD",
        "colab": {
          "base_uri": "https://localhost:8080/",
          "height": 359
        },
        "outputId": "8d27d3a5-99d2-4f07-96cb-ac62055f45ec"
      },
      "source": [
        "col_names = [i for i in sorted(predictions_dict)]\n",
        "col_names.insert(0, 'image_ID')\n",
        "df_cls = pd.DataFrame(temp_list, columns = col_names)\n",
        "df_cls.head(10)"
      ],
      "execution_count": null,
      "outputs": [
        {
          "output_type": "execute_result",
          "data": {
            "text/html": [
              "<div>\n",
              "<style scoped>\n",
              "    .dataframe tbody tr th:only-of-type {\n",
              "        vertical-align: middle;\n",
              "    }\n",
              "\n",
              "    .dataframe tbody tr th {\n",
              "        vertical-align: top;\n",
              "    }\n",
              "\n",
              "    .dataframe thead th {\n",
              "        text-align: right;\n",
              "    }\n",
              "</style>\n",
              "<table border=\"1\" class=\"dataframe\">\n",
              "  <thead>\n",
              "    <tr style=\"text-align: right;\">\n",
              "      <th></th>\n",
              "      <th>image_ID</th>\n",
              "      <th>diffused</th>\n",
              "      <th>junk</th>\n",
              "      <th>non_nuclear</th>\n",
              "      <th>nuclear</th>\n",
              "    </tr>\n",
              "  </thead>\n",
              "  <tbody>\n",
              "    <tr>\n",
              "      <th>0</th>\n",
              "      <td>merged_191120100001_B02f220_2</td>\n",
              "      <td>61.527380</td>\n",
              "      <td>2.915442e-03</td>\n",
              "      <td>38.440330</td>\n",
              "      <td>0.029383</td>\n",
              "    </tr>\n",
              "    <tr>\n",
              "      <th>1</th>\n",
              "      <td>merged_191120100001_B02f73_0</td>\n",
              "      <td>9.870518</td>\n",
              "      <td>2.971239e-02</td>\n",
              "      <td>69.433010</td>\n",
              "      <td>20.666759</td>\n",
              "    </tr>\n",
              "    <tr>\n",
              "      <th>2</th>\n",
              "      <td>merged_191120100001_B02f163_0</td>\n",
              "      <td>0.002624</td>\n",
              "      <td>1.583634e-07</td>\n",
              "      <td>0.003244</td>\n",
              "      <td>99.994135</td>\n",
              "    </tr>\n",
              "    <tr>\n",
              "      <th>3</th>\n",
              "      <td>merged_191120100001_B02f113_4</td>\n",
              "      <td>63.259120</td>\n",
              "      <td>3.011508e-01</td>\n",
              "      <td>1.799152</td>\n",
              "      <td>34.640583</td>\n",
              "    </tr>\n",
              "    <tr>\n",
              "      <th>4</th>\n",
              "      <td>merged_191120100001_B02f169_8</td>\n",
              "      <td>7.266730</td>\n",
              "      <td>2.637421e+00</td>\n",
              "      <td>88.465077</td>\n",
              "      <td>1.630769</td>\n",
              "    </tr>\n",
              "    <tr>\n",
              "      <th>5</th>\n",
              "      <td>merged_191120100001_B02f87_1</td>\n",
              "      <td>10.472993</td>\n",
              "      <td>4.408319e-01</td>\n",
              "      <td>71.314430</td>\n",
              "      <td>17.771743</td>\n",
              "    </tr>\n",
              "    <tr>\n",
              "      <th>6</th>\n",
              "      <td>merged_191120100001_B02f42_0</td>\n",
              "      <td>23.981301</td>\n",
              "      <td>8.397999e-04</td>\n",
              "      <td>3.944585</td>\n",
              "      <td>72.073270</td>\n",
              "    </tr>\n",
              "    <tr>\n",
              "      <th>7</th>\n",
              "      <td>merged_191120100001_B02f43_1</td>\n",
              "      <td>16.409093</td>\n",
              "      <td>3.901587e-04</td>\n",
              "      <td>41.742350</td>\n",
              "      <td>41.848165</td>\n",
              "    </tr>\n",
              "    <tr>\n",
              "      <th>8</th>\n",
              "      <td>merged_191120100001_B02f67_4</td>\n",
              "      <td>51.734036</td>\n",
              "      <td>1.180673e+01</td>\n",
              "      <td>2.342854</td>\n",
              "      <td>34.116375</td>\n",
              "    </tr>\n",
              "    <tr>\n",
              "      <th>9</th>\n",
              "      <td>merged_191120100001_B02f241_0</td>\n",
              "      <td>22.132435</td>\n",
              "      <td>2.102840e-01</td>\n",
              "      <td>73.979760</td>\n",
              "      <td>3.677519</td>\n",
              "    </tr>\n",
              "  </tbody>\n",
              "</table>\n",
              "</div>"
            ],
            "text/plain": [
              "                        image_ID   diffused  ...  non_nuclear    nuclear\n",
              "0  merged_191120100001_B02f220_2  61.527380  ...    38.440330   0.029383\n",
              "1   merged_191120100001_B02f73_0   9.870518  ...    69.433010  20.666759\n",
              "2  merged_191120100001_B02f163_0   0.002624  ...     0.003244  99.994135\n",
              "3  merged_191120100001_B02f113_4  63.259120  ...     1.799152  34.640583\n",
              "4  merged_191120100001_B02f169_8   7.266730  ...    88.465077   1.630769\n",
              "5   merged_191120100001_B02f87_1  10.472993  ...    71.314430  17.771743\n",
              "6   merged_191120100001_B02f42_0  23.981301  ...     3.944585  72.073270\n",
              "7   merged_191120100001_B02f43_1  16.409093  ...    41.742350  41.848165\n",
              "8   merged_191120100001_B02f67_4  51.734036  ...     2.342854  34.116375\n",
              "9  merged_191120100001_B02f241_0  22.132435  ...    73.979760   3.677519\n",
              "\n",
              "[10 rows x 5 columns]"
            ]
          },
          "metadata": {
            "tags": []
          },
          "execution_count": 41
        }
      ]
    },
    {
      "cell_type": "markdown",
      "metadata": {
        "id": "0Cu2It9506T2"
      },
      "source": [
        "save the dataframe to a csv file"
      ]
    },
    {
      "cell_type": "code",
      "metadata": {
        "id": "MXP_Ghw2pQyH"
      },
      "source": [
        "# change the file name\n",
        "df_cls.to_csv('classification_results.csv', index=False)"
      ],
      "execution_count": null,
      "outputs": []
    },
    {
      "cell_type": "code",
      "metadata": {
        "id": "SzGWPBDZ-sJ2"
      },
      "source": [
        ""
      ],
      "execution_count": null,
      "outputs": []
    }
  ]
}
